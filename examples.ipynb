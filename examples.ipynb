{
 "cells": [
  {
   "cell_type": "markdown",
   "source": [
    "# Example usage"
   ],
   "metadata": {
    "collapsed": false,
    "pycharm": {
     "name": "#%% md\n"
    }
   }
  },
  {
   "cell_type": "markdown",
   "source": [
    "Here are some examples to demonstrate how to use the HYPEHD package. The test datasets are open source data from [https://github.com/insightsengineering/scda.2022](https://github.com/insightsengineering/scda.2022) website."
   ],
   "metadata": {
    "collapsed": false,
    "pycharm": {
     "name": "#%% md\n"
    }
   }
  },
  {
   "cell_type": "markdown",
   "source": [
    "## Imports"
   ],
   "metadata": {
    "collapsed": false,
    "pycharm": {
     "name": "#%% md\n"
    }
   }
  },
  {
   "cell_type": "code",
   "execution_count": null,
   "outputs": [],
   "source": [
    "from hypehd import visualization as vis\n",
    "from hypehd import data_manipulation as da"
   ],
   "metadata": {
    "collapsed": false,
    "pycharm": {
     "name": "#%%\n"
    }
   }
  },
  {
   "cell_type": "markdown",
   "source": [
    "## Read test data\n",
    "dm is a dataset including a set of essential standard variables (age, sex, race...) that describe each subject.\n",
    "vs is a longitudinal dataset including a set of vital signs records per each patient, each visit."
   ],
   "metadata": {
    "collapsed": false,
    "pycharm": {
     "name": "#%% md\n"
    }
   }
  },
  {
   "cell_type": "code",
   "execution_count": null,
   "outputs": [],
   "source": [
    "dm = da.read(\"csv\", \"data/demographic.csv\")\n",
    "vs = da.read(\"csv\", \"data/vital_signs.csv\")\n",
    "dm.head()"
   ],
   "metadata": {
    "collapsed": false,
    "pycharm": {
     "name": "#%%\n"
    }
   }
  },
  {
   "cell_type": "code",
   "execution_count": null,
   "outputs": [],
   "source": [
    "vs.head()"
   ],
   "metadata": {
    "collapsed": false,
    "pycharm": {
     "name": "#%%\n"
    }
   }
  },
  {
   "cell_type": "markdown",
   "source": [
    "## Filter the dataset\n",
    "filter vs dataset to select only weight records and merge it with dm dataset using`data_selection()` function in data_manipulation"
   ],
   "metadata": {
    "collapsed": false,
    "pycharm": {
     "name": "#%% md\n"
    }
   }
  },
  {
   "cell_type": "code",
   "execution_count": null,
   "outputs": [],
   "source": [
    "test = da.data_selection(keep_col=[\"USUBJID\", \"PARAMCD\", \"AVAL\", \"AVISITN\"], sort_by=[\"SEX\", \"AGE\"], sort_asc=True,\n",
    "                         input_data=vs, cond='PARAMCD==\"WEIGHT\"', merge_data=dm, merge_by=\"USUBJID\",\n",
    "                         merge_keep_col=[\"USUBJID\", \"ITTFL\", \"SEX\", \"AGE\", \"TRT01P\"])\n",
    "test.head()"
   ],
   "metadata": {
    "collapsed": false,
    "pycharm": {
     "name": "#%%\n"
    }
   }
  },
  {
   "cell_type": "markdown",
   "source": [
    "## Derive baseline info\n",
    "using `derive_baseline()` function in data_manipulation calculate change from baseline, percent change from baseline of weight per each subject"
   ],
   "metadata": {
    "collapsed": false,
    "pycharm": {
     "name": "#%% md\n"
    }
   }
  },
  {
   "cell_type": "code",
   "execution_count": null,
   "outputs": [],
   "source": [
    "test = da.derive_baseline(input_data=test, by_vars=[\"USUBJID\", \"PARAMCD\"], value=\"AVAL\", chg=True, pchg=True,\n",
    "                          base_visit='AVISITN==0')\n",
    "test.head()"
   ],
   "metadata": {
    "collapsed": false,
    "pycharm": {
     "name": "#%%\n"
    }
   }
  },
  {
   "cell_type": "markdown",
   "source": [
    "## Generate demographic plots\n",
    "using `demo_graph()` function in visualization to generate plots of AGE, SEX by different treatment group"
   ],
   "metadata": {
    "collapsed": false,
    "pycharm": {
     "name": "#%% md\n"
    }
   }
  },
  {
   "cell_type": "code",
   "execution_count": null,
   "outputs": [],
   "source": [
    "vis.demo_graph(var=[\"AGE\", \"SEX\"], input_data=dm, group='TRT01P')"
   ],
   "metadata": {
    "collapsed": false,
    "pycharm": {
     "name": "#%%\n"
    }
   }
  },
  {
   "cell_type": "markdown",
   "source": [
    "## Generate line plots for longitudinal data\n",
    "using `longitudinal_graph()` function in visualization to generate plots of change from baseline, percent change from baseline by different visits"
   ],
   "metadata": {
    "collapsed": false,
    "pycharm": {
     "name": "#%% md\n"
    }
   }
  },
  {
   "cell_type": "code",
   "execution_count": null,
   "outputs": [],
   "source": [
    "vis.longitudinal_graph(outcome=[\"chg\", \"pchg\"], time=\"AVISITN\", group=\"TRT01P\", input_data=test)"
   ],
   "metadata": {
    "collapsed": false,
    "pycharm": {
     "name": "#%%\n"
    }
   }
  },
  {
   "cell_type": "markdown",
   "source": [
    "## Derive extreme flags\n",
    "using `derive_extreme_flag()` function to get the last and max records per each patient"
   ],
   "metadata": {
    "collapsed": false,
    "pycharm": {
     "name": "#%% md\n"
    }
   }
  },
  {
   "cell_type": "code",
   "execution_count": null,
   "outputs": [],
   "source": [
    "df = da.derive_extreme_flag(input_data=vs, by_vars=['USUBJID', 'PARAMCD'], sort_var=['AVISITN'], new_var=\"last_flag\", mode=\"last\", value_var=\"AVAL\")\n",
    "df = da.derive_extreme_flag(input_data=df, by_vars=['USUBJID', 'PARAMCD'], sort_var=['AVISITN'], new_var=\"max_flag\", mode=\"max\", value_var=\"AVAL\")\n",
    "df.head(20)"
   ],
   "metadata": {
    "collapsed": false,
    "pycharm": {
     "name": "#%%\n"
    }
   }
  },
  {
   "cell_type": "markdown",
   "source": [
    "## Survival analysis\n",
    "using `time_to_event()` in data_manipulation to process the time to event variable and using `survival_analysis()` in visualization to generate the KM plot"
   ],
   "metadata": {
    "collapsed": false,
    "pycharm": {
     "name": "#%% md\n"
    }
   }
  },
  {
   "cell_type": "code",
   "execution_count": null,
   "outputs": [],
   "source": [
    "dm2 = da.time_to_event(input_data=dm, start_date=\"TRTSDTM\", end_date=\"DTHDT\", censor_date=\"TRTEDTM\",\n",
    "                       new_var='time_to_death', unit='year')\n",
    "dm2.head()"
   ],
   "metadata": {
    "collapsed": false,
    "pycharm": {
     "name": "#%%\n"
    }
   }
  },
  {
   "cell_type": "code",
   "execution_count": null,
   "outputs": [],
   "source": [
    "vis.survival_analysis(time=\"time_to_death\", censor_status=\"censor_status\", group=\"TRT01P\", input_data=dm2)"
   ],
   "metadata": {
    "collapsed": false,
    "pycharm": {
     "name": "#%%\n"
    }
   }
  },
  {
   "cell_type": "code",
   "execution_count": null,
   "outputs": [],
   "source": [],
   "metadata": {
    "collapsed": false,
    "pycharm": {
     "name": "#%%\n"
    }
   }
  }
 ],
 "metadata": {
  "kernelspec": {
   "display_name": "Python 3",
   "language": "python",
   "name": "python3"
  },
  "language_info": {
   "codemirror_mode": {
    "name": "ipython",
    "version": 2
   },
   "file_extension": ".py",
   "mimetype": "text/x-python",
   "name": "python",
   "nbconvert_exporter": "python",
   "pygments_lexer": "ipython2",
   "version": "2.7.6"
  }
 },
 "nbformat": 4,
 "nbformat_minor": 0
}