{
 "cells": [
  {
   "cell_type": "markdown",
   "metadata": {
    "collapsed": false,
    "pycharm": {
     "name": "#%% md\n"
    }
   },
   "source": [
    "# Example usage"
   ]
  },
  {
   "cell_type": "markdown",
   "metadata": {
    "collapsed": false,
    "pycharm": {
     "name": "#%% md\n"
    }
   },
   "source": [
    "Here are some examples to demonstrate how to use the HYPEHD package. The test datasets are open source data from [https://github.com/insightsengineering/scda.2022](https://github.com/insightsengineering/scda.2022) website."
   ]
  },
  {
   "cell_type": "markdown",
   "metadata": {
    "collapsed": false,
    "pycharm": {
     "name": "#%% md\n"
    }
   },
   "source": [
    "## Imports"
   ]
  },
  {
   "cell_type": "code",
   "execution_count": 1,
   "metadata": {
    "collapsed": false,
    "pycharm": {
     "name": "#%%\n"
    }
   },
   "outputs": [
    {
     "ename": "ModuleNotFoundError",
     "evalue": "No module named 'hypehd'",
     "output_type": "error",
     "traceback": [
      "\u001b[0;31m---------------------------------------------------------------------------\u001b[0m",
      "\u001b[0;31mModuleNotFoundError\u001b[0m                       Traceback (most recent call last)",
      "\u001b[0;32m/var/folders/pg/bn92l6gx4bv7nvjqk8mjnhp80000gn/T/ipykernel_1712/2644166443.py\u001b[0m in \u001b[0;36m<module>\u001b[0;34m\u001b[0m\n\u001b[0;32m----> 1\u001b[0;31m \u001b[0;32mfrom\u001b[0m \u001b[0mhypehd\u001b[0m \u001b[0;32mimport\u001b[0m \u001b[0mvisualization\u001b[0m \u001b[0;32mas\u001b[0m \u001b[0mvis\u001b[0m\u001b[0;34m\u001b[0m\u001b[0;34m\u001b[0m\u001b[0m\n\u001b[0m\u001b[1;32m      2\u001b[0m \u001b[0;32mfrom\u001b[0m \u001b[0mhypehd\u001b[0m \u001b[0;32mimport\u001b[0m \u001b[0mdata_manipulation\u001b[0m \u001b[0;32mas\u001b[0m \u001b[0mda\u001b[0m\u001b[0;34m\u001b[0m\u001b[0;34m\u001b[0m\u001b[0m\n",
      "\u001b[0;31mModuleNotFoundError\u001b[0m: No module named 'hypehd'"
     ]
    }
   ],
   "source": [
    "from hypehd import visualization as vis\n",
    "from hypehd import data_manipulation as da"
   ]
  },
  {
   "cell_type": "markdown",
   "metadata": {
    "collapsed": false,
    "pycharm": {
     "name": "#%% md\n"
    }
   },
   "source": [
    "## Read test data\n",
    "dm is a dataset including a set of essential standard variables (age, sex, race...) that describe each subject.\n",
    "vs is a longitudinal dataset including a set of vital signs records per each patient, each visit."
   ]
  },
  {
   "cell_type": "code",
   "execution_count": null,
   "metadata": {
    "collapsed": false,
    "pycharm": {
     "name": "#%%\n"
    }
   },
   "outputs": [],
   "source": [
    "dm = da.read(\"csv\", \"data/demographic.csv\")\n",
    "vs = da.read(\"csv\", \"data/vital_signs.csv\")\n",
    "dm.head()"
   ]
  },
  {
   "cell_type": "code",
   "execution_count": null,
   "metadata": {
    "collapsed": false,
    "pycharm": {
     "name": "#%%\n"
    }
   },
   "outputs": [],
   "source": [
    "vs.head()"
   ]
  },
  {
   "cell_type": "markdown",
   "metadata": {
    "collapsed": false,
    "pycharm": {
     "name": "#%% md\n"
    }
   },
   "source": [
    "## Filter the dataset\n",
    "filter vs dataset to select only weight records and merge it with dm dataset using`data_selection()` function in data_manipulation"
   ]
  },
  {
   "cell_type": "code",
   "execution_count": null,
   "metadata": {
    "collapsed": false,
    "pycharm": {
     "name": "#%%\n"
    }
   },
   "outputs": [],
   "source": [
    "test = da.data_selection(keep_col=[\"USUBJID\", \"PARAMCD\", \"AVAL\", \"AVISITN\"], sort_by=[\"SEX\", \"AGE\"], sort_asc=True,\n",
    "                         input_data=vs, cond='PARAMCD==\"WEIGHT\"', merge_data=dm, merge_by=\"USUBJID\",\n",
    "                         merge_keep_col=[\"USUBJID\", \"ITTFL\", \"SEX\", \"AGE\", \"TRT01P\"])\n",
    "test.head()"
   ]
  },
  {
   "cell_type": "markdown",
   "metadata": {
    "collapsed": false,
    "pycharm": {
     "name": "#%% md\n"
    }
   },
   "source": [
    "## Derive baseline info\n",
    "using `derive_baseline()` function in data_manipulation calculate change from baseline, percent change from baseline of weight per each subject"
   ]
  },
  {
   "cell_type": "code",
   "execution_count": null,
   "metadata": {
    "collapsed": false,
    "pycharm": {
     "name": "#%%\n"
    }
   },
   "outputs": [],
   "source": [
    "test = da.derive_baseline(input_data=test, by_vars=[\"USUBJID\", \"PARAMCD\"], value=\"AVAL\", chg=True, pchg=True,\n",
    "                          base_visit='AVISITN==0')\n",
    "test.head()"
   ]
  },
  {
   "cell_type": "markdown",
   "metadata": {
    "collapsed": false,
    "pycharm": {
     "name": "#%% md\n"
    }
   },
   "source": [
    "## Generate demographic plots\n",
    "using `demo_graph()` function in visualization to generate plots of AGE, SEX by different treatment group"
   ]
  },
  {
   "cell_type": "code",
   "execution_count": null,
   "metadata": {
    "collapsed": false,
    "pycharm": {
     "name": "#%%\n"
    }
   },
   "outputs": [],
   "source": [
    "vis.demo_graph(var=[\"AGE\", \"SEX\"], input_data=dm, group='TRT01P')"
   ]
  },
  {
   "cell_type": "markdown",
   "metadata": {
    "collapsed": false,
    "pycharm": {
     "name": "#%% md\n"
    }
   },
   "source": [
    "## Generate line plots for longitudinal data\n",
    "using `longitudinal_graph()` function in visualization to generate plots of change from baseline, percent change from baseline by different visits"
   ]
  },
  {
   "cell_type": "code",
   "execution_count": null,
   "metadata": {
    "collapsed": false,
    "pycharm": {
     "name": "#%%\n"
    }
   },
   "outputs": [],
   "source": [
    "vis.longitudinal_graph(outcome=[\"chg\", \"pchg\"], time=\"AVISITN\", group=\"TRT01P\", input_data=test)"
   ]
  },
  {
   "cell_type": "markdown",
   "metadata": {
    "collapsed": false,
    "pycharm": {
     "name": "#%% md\n"
    }
   },
   "source": [
    "## Derive extreme flags\n",
    "using `derive_extreme_flag()` function to get the last and max records per each patient"
   ]
  },
  {
   "cell_type": "code",
   "execution_count": null,
   "metadata": {
    "collapsed": false,
    "pycharm": {
     "name": "#%%\n"
    }
   },
   "outputs": [],
   "source": [
    "df = da.derive_extreme_flag(input_data=vs, by_vars=['USUBJID', 'PARAMCD'], sort_var=['AVISITN'], new_var=\"last_flag\", mode=\"last\", value_var=\"AVAL\")\n",
    "df = da.derive_extreme_flag(input_data=df, by_vars=['USUBJID', 'PARAMCD'], sort_var=['AVISITN'], new_var=\"max_flag\", mode=\"max\", value_var=\"AVAL\")\n",
    "df.head(20)"
   ]
  },
  {
   "cell_type": "markdown",
   "metadata": {
    "collapsed": false,
    "pycharm": {
     "name": "#%% md\n"
    }
   },
   "source": [
    "## Survival analysis\n",
    "using `time_to_event()` in data_manipulation to process the time to event variable and using `survival_analysis()` in visualization to generate the KM plot"
   ]
  },
  {
   "cell_type": "code",
   "execution_count": null,
   "metadata": {
    "collapsed": false,
    "pycharm": {
     "name": "#%%\n"
    }
   },
   "outputs": [],
   "source": [
    "dm2 = da.time_to_event(input_data=dm, start_date=\"TRTSDTM\", end_date=\"DTHDT\", censor_date=\"TRTEDTM\",\n",
    "                       new_var='time_to_death', unit='year')\n",
    "dm2.head()"
   ]
  },
  {
   "cell_type": "code",
   "execution_count": null,
   "metadata": {
    "collapsed": false,
    "pycharm": {
     "name": "#%%\n"
    }
   },
   "outputs": [],
   "source": [
    "vis.survival_analysis(time=\"time_to_death\", censor_status=\"censor_status\", group=\"TRT01P\", input_data=dm2)"
   ]
  },
  {
   "cell_type": "code",
   "execution_count": null,
   "metadata": {
    "collapsed": false,
    "pycharm": {
     "name": "#%%\n"
    }
   },
   "outputs": [],
   "source": []
  }
 ],
 "metadata": {
  "kernelspec": {
   "display_name": "Python 3",
   "language": "python",
   "name": "python3"
  },
  "language_info": {
   "codemirror_mode": {
    "name": "ipython",
    "version": 3
   },
   "file_extension": ".py",
   "mimetype": "text/x-python",
   "name": "python",
   "nbconvert_exporter": "python",
   "pygments_lexer": "ipython3",
   "version": "3.9.7"
  }
 },
 "nbformat": 4,
 "nbformat_minor": 0
}